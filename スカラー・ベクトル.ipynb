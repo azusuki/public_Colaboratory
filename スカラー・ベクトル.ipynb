{
  "nbformat": 4,
  "nbformat_minor": 0,
  "metadata": {
    "colab": {
      "name": "スカラー・ベクトル.ipynb",
      "provenance": [],
      "authorship_tag": "ABX9TyNaKoxY6oMlSXcdgjTPPbYS",
      "include_colab_link": true
    },
    "kernelspec": {
      "name": "python3",
      "display_name": "Python 3"
    }
  },
  "cells": [
    {
      "cell_type": "markdown",
      "metadata": {
        "id": "view-in-github",
        "colab_type": "text"
      },
      "source": [
        "<a href=\"https://colab.research.google.com/github/azusuki/public_Colaboratory/blob/master/%E3%82%B9%E3%82%AB%E3%83%A9%E3%83%BC%E3%83%BB%E3%83%99%E3%82%AF%E3%83%88%E3%83%AB.ipynb\" target=\"_parent\"><img src=\"https://colab.research.google.com/assets/colab-badge.svg\" alt=\"Open In Colab\"/></a>"
      ]
    },
    {
      "cell_type": "code",
      "metadata": {
        "id": "N6iXtEmTJ-D8",
        "colab_type": "code",
        "colab": {}
      },
      "source": [
        "import numpy as np\n",
        "import pandas as pd\n",
        "import matplotlib.pyplot as plt"
      ],
      "execution_count": 0,
      "outputs": []
    },
    {
      "cell_type": "code",
      "metadata": {
        "id": "sj06fSOyL8OE",
        "colab_type": "code",
        "outputId": "eb1c8b64-5798-47e2-9668-4eb285d1cf29",
        "colab": {
          "base_uri": "https://localhost:8080/",
          "height": 34
        }
      },
      "source": [
        "s = 5\n",
        "s"
      ],
      "execution_count": 0,
      "outputs": [
        {
          "output_type": "execute_result",
          "data": {
            "text/plain": [
              "5"
            ]
          },
          "metadata": {
            "tags": []
          },
          "execution_count": 2
        }
      ]
    },
    {
      "cell_type": "code",
      "metadata": {
        "id": "eI4KCG6HL_Gt",
        "colab_type": "code",
        "outputId": "21ff36ce-4f4a-4f44-ff7f-fe5c7ce77c92",
        "colab": {
          "base_uri": "https://localhost:8080/",
          "height": 34
        }
      },
      "source": [
        "v = np.array([5,-2,4])\n",
        "v"
      ],
      "execution_count": 0,
      "outputs": [
        {
          "output_type": "execute_result",
          "data": {
            "text/plain": [
              "array([ 5, -2,  4])"
            ]
          },
          "metadata": {
            "tags": []
          },
          "execution_count": 7
        }
      ]
    },
    {
      "cell_type": "code",
      "metadata": {
        "id": "QIRUmPFKMcLt",
        "colab_type": "code",
        "colab": {}
      },
      "source": [
        "m = np.array([[5,12,6],[-3,0,14]])\n",
        "m\n",
        "m1 = np.array([[9,8,7],[1,3,-5]])"
      ],
      "execution_count": 0,
      "outputs": []
    },
    {
      "cell_type": "code",
      "metadata": {
        "id": "8Zr0AiCfOJIC",
        "colab_type": "code",
        "outputId": "34da2e81-a2c8-4561-902a-2109a5cd2c8c",
        "colab": {
          "base_uri": "https://localhost:8080/",
          "height": 34
        }
      },
      "source": [
        "v.shape"
      ],
      "execution_count": 0,
      "outputs": [
        {
          "output_type": "execute_result",
          "data": {
            "text/plain": [
              "(3,)"
            ]
          },
          "metadata": {
            "tags": []
          },
          "execution_count": 13
        }
      ]
    },
    {
      "cell_type": "code",
      "metadata": {
        "id": "UQHef08YOb-H",
        "colab_type": "code",
        "outputId": "6d7310fd-b56e-44b9-8018-b79e7f56d995",
        "colab": {
          "base_uri": "https://localhost:8080/",
          "height": 34
        }
      },
      "source": [
        "t = np.array([m,m1])\n",
        "type(t)"
      ],
      "execution_count": 0,
      "outputs": [
        {
          "output_type": "execute_result",
          "data": {
            "text/plain": [
              "numpy.ndarray"
            ]
          },
          "metadata": {
            "tags": []
          },
          "execution_count": 16
        }
      ]
    },
    {
      "cell_type": "code",
      "metadata": {
        "id": "WjPt9DjQPZm4",
        "colab_type": "code",
        "outputId": "67a8f950-e5eb-4a42-dbfe-3f78a4780301",
        "colab": {
          "base_uri": "https://localhost:8080/",
          "height": 34
        }
      },
      "source": [
        "t.shape"
      ],
      "execution_count": 0,
      "outputs": [
        {
          "output_type": "execute_result",
          "data": {
            "text/plain": [
              "(2, 2, 3)"
            ]
          },
          "metadata": {
            "tags": []
          },
          "execution_count": 17
        }
      ]
    },
    {
      "cell_type": "code",
      "metadata": {
        "id": "3a72oMI_Pl3l",
        "colab_type": "code",
        "outputId": "c3d39b4e-51a8-4a9d-8d11-97a173ccaee9",
        "colab": {
          "base_uri": "https://localhost:8080/",
          "height": 68
        }
      },
      "source": [
        "m.T"
      ],
      "execution_count": 0,
      "outputs": [
        {
          "output_type": "execute_result",
          "data": {
            "text/plain": [
              "array([[ 5, -3],\n",
              "       [12,  0],\n",
              "       [ 6, 14]])"
            ]
          },
          "metadata": {
            "tags": []
          },
          "execution_count": 19
        }
      ]
    },
    {
      "cell_type": "code",
      "metadata": {
        "id": "S5rViTZWahYL",
        "colab_type": "code",
        "outputId": "55ca8f08-a80a-4079-b03a-50a27ceee9e8",
        "colab": {
          "base_uri": "https://localhost:8080/",
          "height": 68
        }
      },
      "source": [
        "v_reshap = v.reshape(3,1)\n",
        "v_reshap"
      ],
      "execution_count": 0,
      "outputs": [
        {
          "output_type": "execute_result",
          "data": {
            "text/plain": [
              "array([[ 5],\n",
              "       [-2],\n",
              "       [ 4]])"
            ]
          },
          "metadata": {
            "tags": []
          },
          "execution_count": 21
        }
      ]
    },
    {
      "cell_type": "code",
      "metadata": {
        "id": "qTg2sbelbSSx",
        "colab_type": "code",
        "colab": {}
      },
      "source": [
        "x = np.array([2,8,4])\n",
        "y = np.array([1,-7,3])"
      ],
      "execution_count": 0,
      "outputs": []
    },
    {
      "cell_type": "code",
      "metadata": {
        "id": "Ti7RRPjTgTwW",
        "colab_type": "code",
        "outputId": "fc68385d-89e8-40e4-9ee2-3d4e76d58cb8",
        "colab": {
          "base_uri": "https://localhost:8080/",
          "height": 34
        }
      },
      "source": [
        "np.dot(x,y)"
      ],
      "execution_count": 0,
      "outputs": [
        {
          "output_type": "execute_result",
          "data": {
            "text/plain": [
              "-42"
            ]
          },
          "metadata": {
            "tags": []
          },
          "execution_count": 23
        }
      ]
    },
    {
      "cell_type": "code",
      "metadata": {
        "id": "MPlT1omhgZYg",
        "colab_type": "code",
        "outputId": "d9f53275-c2f3-495a-91b1-ac82846d9c35",
        "colab": {
          "base_uri": "https://localhost:8080/",
          "height": 34
        }
      },
      "source": [
        "5*x"
      ],
      "execution_count": 0,
      "outputs": [
        {
          "output_type": "execute_result",
          "data": {
            "text/plain": [
              "array([10, 40, 20])"
            ]
          },
          "metadata": {
            "tags": []
          },
          "execution_count": 24
        }
      ]
    },
    {
      "cell_type": "code",
      "metadata": {
        "id": "lfXsaU3kAqqw",
        "colab_type": "code",
        "outputId": "a66c9640-dd5e-4115-c0fa-91a99bd85405",
        "colab": {
          "base_uri": "https://localhost:8080/",
          "height": 34
        }
      },
      "source": [
        "object = 1000\n",
        "xs = np.random.uniform(low = -10, high =10, size=(object,1))\n",
        "zs = np.random.uniform(-10,10, size=(object,1))\n",
        "inputs = np.column_stack((xs, zs))\n",
        "inputs.shape"
      ],
      "execution_count": 0,
      "outputs": [
        {
          "output_type": "execute_result",
          "data": {
            "text/plain": [
              "(1000, 2)"
            ]
          },
          "metadata": {
            "tags": []
          },
          "execution_count": 2
        }
      ]
    },
    {
      "cell_type": "code",
      "metadata": {
        "id": "8jgSV_J4wSmK",
        "colab_type": "code",
        "outputId": "9bce976b-720a-4c56-c9d4-e0401f3ac9f6",
        "colab": {
          "base_uri": "https://localhost:8080/",
          "height": 34
        }
      },
      "source": [
        "noise = np.random.uniform(-1,1, size=(object,1))\n",
        "targets = 2*xs - 3*zs + 5 + noise\n",
        "\n",
        "targets.shape"
      ],
      "execution_count": 0,
      "outputs": [
        {
          "output_type": "execute_result",
          "data": {
            "text/plain": [
              "(1000, 1)"
            ]
          },
          "metadata": {
            "tags": []
          },
          "execution_count": 3
        }
      ]
    },
    {
      "cell_type": "code",
      "metadata": {
        "id": "vtcHWzeVw3kW",
        "colab_type": "code",
        "outputId": "9695abc3-9cd0-4c2b-bc45-a8979b35ef26",
        "colab": {
          "base_uri": "https://localhost:8080/",
          "height": 248
        }
      },
      "source": [
        "# 3D plotを使うためにはオブジェクトはある形状でなければいけないことから、reshapeメソッドを使っていきます\n",
        "targets = targets.reshape(object,)\n",
        "\n",
        "# matplotlib.pyplotを使って散布図を作成していきます\n",
        "\n",
        "# 変数を宣言します\n",
        "fig = plt.figure()\n",
        "\n",
        "# 3dのグラフを作成するためのメソッドを書いていきます\n",
        "ax = fig.add_subplot(111, projection='3d')\n",
        "\n",
        "# 軸を選びます\n",
        "ax.plot(xs, zs, targets)\n",
        "\n",
        "# ラベルに名前を付けます\n",
        "ax.set_xlabel('xs')\n",
        "ax.set_ylabel('zs')\n",
        "ax.set_zlabel('Targets')\n",
        "\n",
        "# azimの値を変えることで、グラフをどこから見るのかという点を変更することができます\n",
        "ax.view_init(azim=100)\n",
        "\n",
        "# 実際に散布図を表示していきます \n",
        "plt.show()\n",
        "\n",
        "# ターゲットの形状を元に戻していきます\n",
        "targets = targets.reshape(object,1)"
      ],
      "execution_count": 0,
      "outputs": [
        {
          "output_type": "display_data",
          "data": {
            "image/png": "[encoded data removed]",
            "text/plain": [
              "<Figure size 432x288 with 1 Axes>"
            ]
          },
          "metadata": {
            "tags": [],
            "needs_background": "light"
          }
        }
      ]
    },
    {
      "cell_type": "code",
      "metadata": {
        "id": "Dvux_dHhxUqN",
        "colab_type": "code",
        "outputId": "0ad50634-3cd6-4dcd-cdc6-8a999ca2c619",
        "colab": {
          "base_uri": "https://localhost:8080/",
          "height": 68
        }
      },
      "source": [
        "init_range =0.1\n",
        "weights = np.random.uniform(low = - init_range, high =init_range, size=(2,1))\n",
        "biases = np.random.uniform(low = - init_range, high =init_range, size=1)\n",
        "\n",
        "print(weights)\n",
        "print(biases)"
      ],
      "execution_count": 0,
      "outputs": [
        {
          "output_type": "stream",
          "text": [
            "[[-0.04848901]\n",
            " [ 0.02743237]]\n",
            "[0.05806091]\n"
          ],
          "name": "stdout"
        }
      ]
    },
    {
      "cell_type": "code",
      "metadata": {
        "id": "6W2bYvaDyiNy",
        "colab_type": "code",
        "colab": {}
      },
      "source": [
        "# 今回の例では、学習率が0.02だと非常に良く機能します。\n",
        "learning_rate = 0.02"
      ],
      "execution_count": 0,
      "outputs": []
    },
    {
      "cell_type": "code",
      "metadata": {
        "id": "LtNsWJ17ymxy",
        "colab_type": "code",
        "outputId": "d738f567-6add-4dfc-9748-b6292af990f3",
        "colab": {
          "base_uri": "https://localhost:8080/",
          "height": 1000
        }
      },
      "source": [
        "for i in range(200):\n",
        "      \n",
        "    # y = xw + b の線形モデルの等式です\n",
        "    outputs = np.dot(inputs,weights) + biases\n",
        "    # デルタは出力とターゲットの差を示しています\n",
        "    # ここではデルタは1000x1のベクトルです\n",
        "    deltas = outputs - targets\n",
        "        \n",
        "    # L2ノルム損失を使って損失の計算をしていきます。値を2で割っていますが、これは最小値を見つけるという意味では影響はありません。\n",
        "    # また、コードを一般化させるためにデータの数で割っています。\n",
        "    loss = np.sum(deltas ** 2) / 2 / object\n",
        "    \n",
        "    # それぞれの繰り返しにおける損失関数の値を出力します.\n",
        "    print (loss)\n",
        "    \n",
        "    # 損失関数の場合と同じように、デルタに関してもデータの数で割っていきます\n",
        "    deltas_scaled = deltas / object\n",
        "    \n",
        "    # 勾配降下法のアルゴリズムを適用していきます\n",
        "    # 重みは2x1, 学習率は1x1 (scalar), 入力は1000x2, デルタは1000x1となります\n",
        "    # 演算を適切に行うために、入力の転置を取ります\n",
        "    weights = weights - learning_rate * np.dot(inputs.T,deltas_scaled)\n",
        "    biases = biases - learning_rate * np.sum(deltas_scaled)"
      ],
      "execution_count": 0,
      "outputs": [
        {
          "output_type": "stream",
          "text": [
            "0.38561418377347045\n",
            "0.37716037978863864\n",
            "0.36904053711760604\n",
            "0.3612414628640968\n",
            "0.3537504853075076\n",
            "0.3465554333142416\n",
            "0.33964461656239436\n",
            "0.3330068065476346\n",
            "0.3266312183394447\n",
            "0.3205074930580598\n",
            "0.3146256810436477\n",
            "0.3089762256903775\n",
            "0.3035499479191067\n",
            "0.2983380312634696\n",
            "0.29333200754512445\n",
            "0.2885237431148937\n",
            "0.2839054256374311\n",
            "0.2794695513979575\n",
            "0.2752089131104327\n",
            "0.27111658820735374\n",
            "0.2671859275921597\n",
            "0.2634105448359637\n",
            "0.25978430580105816\n",
            "0.25630131867433753\n",
            "0.2529559243944442\n",
            "0.2497426874570789\n",
            "0.24665638708354687\n",
            "0.24369200873817842\n",
            "0.2408447359808501\n",
            "0.23810994264136587\n",
            "0.23548318530298457\n",
            "0.23296019608287688\n",
            "0.23053687569778866\n",
            "0.2282092868036379\n",
            "0.22597364759822733\n",
            "0.22382632567667662\n",
            "0.22176383212959042\n",
            "0.21978281587437443\n",
            "0.21788005821049086\n",
            "0.21605246758980035\n",
            "0.2142970745935014\n",
            "0.2126110271074989\n",
            "0.210991585688371\n",
            "0.20943611911239332\n",
            "0.20794210010040204\n",
            "0.20650710121153906\n",
            "0.20512879089921354\n",
            "0.2038049297228691\n",
            "0.20253336670940292\n",
            "0.20131203585832436\n",
            "0.2001389527849729\n",
            "0.19901221149634685\n",
            "0.19792998129429623\n",
            "0.19689050380105716\n",
            "0.19589209010228598\n",
            "0.19493311800296015\n",
            "0.1940120293916785\n",
            "0.19312732770908628\n",
            "0.19227757551630595\n",
            "0.19146139215942648\n",
            "0.1906774515262553\n",
            "0.18992447989168681\n",
            "0.18920125384819034\n",
            "0.18850659831805025\n",
            "0.18783938464413244\n",
            "0.18719852875607362\n",
            "0.18658298940891374\n",
            "0.18599176649130936\n",
            "0.18542389940058088\n",
            "0.18487846548195133\n",
            "0.1843545785294432\n",
            "0.1838513873459942\n",
            "0.183368074360457\n",
            "0.18290385429923126\n",
            "0.1824579729103733\n",
            "0.18202970573810823\n",
            "0.18161835694575387\n",
            "0.18122325818514498\n",
            "0.1808437675107199\n",
            "0.1804792683365037\n",
            "0.18012916843429808\n",
            "0.1797928989714437\n",
            "0.17946991358659828\n",
            "0.17915968750202235\n",
            "0.17886171667093528\n",
            "0.17857551695855445\n",
            "0.17830062335548563\n",
            "0.17803658922218948\n",
            "0.17778298556329294\n",
            "0.17753940033057017\n",
            "0.17730543775345775\n",
            "0.17708071769601708\n",
            "0.176864875039301\n",
            "0.17665755908811775\n",
            "0.17645843300123146\n",
            "0.17626717324407187\n",
            "0.17608346906306382\n",
            "0.17590702198072403\n",
            "0.17573754531070274\n",
            "0.1755747636919839\n",
            "0.17541841264148575\n",
            "0.17526823812433673\n",
            "0.1751239961411257\n",
            "0.17498545233145954\n",
            "0.17485238159317965\n",
            "0.17472456771662298\n",
            "0.17460180303333062\n",
            "0.174483888078633\n",
            "0.1743706312675662\n",
            "0.17426184858358915\n",
            "0.17415736327959927\n",
            "0.17405700559075835\n",
            "0.17396061245866307\n",
            "0.17386802726641293\n",
            "0.17377909958414253\n",
            "0.17369368492460815\n",
            "0.17361164450842811\n",
            "0.17353284503859873\n",
            "0.17345715848391596\n",
            "0.17338446187095446\n",
            "0.17331463708426412\n",
            "0.17324757067445834\n",
            "0.17318315367388545\n",
            "0.1731212814195808\n",
            "0.17306185338321303\n",
            "0.17300477300774889\n",
            "0.17294994755056967\n",
            "0.1728972879327856\n",
            "0.17284670859450296\n",
            "0.17279812735580902\n",
            "0.17275146528324775\n",
            "0.17270664656157145\n",
            "0.17266359837055825\n",
            "0.17262225076669513\n",
            "0.17258253656953676\n",
            "0.17254439125255153\n",
            "0.17250775283828113\n",
            "0.1724725617976413\n",
            "0.17243876095320035\n",
            "0.1724062953862791\n",
            "0.17237511234772054\n",
            "0.172345161172184\n",
            "0.1723163931958263\n",
            "0.17228876167723325\n",
            "0.172262221721476\n",
            "0.1722367302071671\n",
            "0.17221224571639737\n",
            "0.1721887284674422\n",
            "0.17216614025012433\n",
            "0.17214444436373177\n",
            "0.17212360555738707\n",
            "0.17210358997277272\n",
            "0.17208436508911937\n",
            "0.17206589967036653\n",
            "0.17204816371441137\n",
            "0.17203112840436233\n",
            "0.1720147660617177\n",
            "0.17199905010139463\n",
            "0.17198395498853467\n",
            "0.17196945619701492\n",
            "0.17195553016959925\n",
            "0.17194215427966242\n",
            "0.1719293067944278\n",
            "0.1719169668396558\n",
            "0.17190511436572864\n",
            "0.17189373011507367\n",
            "0.17188279559087466\n",
            "0.1718722930270184\n",
            "0.1718622053592291\n",
            "0.17185251619734246\n",
            "0.17184320979867573\n",
            "0.1718342710424491\n",
            "0.17182568540521811\n",
            "0.1718174389372766\n",
            "0.17180951823999072\n",
            "0.1718019104440304\n",
            "0.17179460318845846\n",
            "0.17178758460064802\n",
            "0.171780843276991\n",
            "0.17177436826437098\n",
            "0.171768149042366\n",
            "0.17176217550615602\n",
            "0.171756437950104\n",
            "0.1717509270519874\n",
            "0.1717456338578509\n",
            "0.171740549767459\n",
            "0.17173566652032168\n",
            "0.1717309761822739\n",
            "0.17172647113258382\n",
            "0.17172214405157105\n",
            "0.17171798790871373\n",
            "0.17171399595122558\n",
            "0.17171016169308445\n",
            "0.17170647890449342\n",
            "0.17170294160175922\n",
            "0.17169954403757004\n",
            "0.17169628069165727\n",
            "0.1716931462618266\n",
            "0.17169013565534294\n",
            "0.17168724398065593\n"
          ],
          "name": "stdout"
        }
      ]
    },
    {
      "cell_type": "code",
      "metadata": {
        "id": "tOTJ1CVP9RGl",
        "colab_type": "code",
        "outputId": "707d3f35-aa7b-4806-a507-ca75ddfb2443",
        "colab": {
          "base_uri": "https://localhost:8080/",
          "height": 279
        }
      },
      "source": [
        "plt.plot(outputs,targets)\n",
        "plt.xlabel('outputs')\n",
        "plt.ylabel('targets')\n",
        "plt.show()"
      ],
      "execution_count": 0,
      "outputs": [
        {
          "output_type": "display_data",
          "data": {
            "image/png": "[encoded data removed]",
            "text/plain": [
              "<Figure size 432x288 with 1 Axes>"
            ]
          },
          "metadata": {
            "tags": [],
            "needs_background": "light"
          }
        }
      ]
    },
    {
      "cell_type": "code",
      "metadata": {
        "id": "KNjS4hrA-XcD",
        "colab_type": "code",
        "colab": {}
      },
      "source": [
        ""
      ],
      "execution_count": 0,
      "outputs": []
    }
  ]
}